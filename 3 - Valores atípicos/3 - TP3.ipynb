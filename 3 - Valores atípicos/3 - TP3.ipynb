{
 "cells": [
  {
   "cell_type": "markdown",
   "metadata": {},
   "source": [
    "# Proyecto análisis de conversación de mensajería"
   ]
  },
  {
   "cell_type": "code",
   "execution_count": null,
   "id": "821299b4",
   "metadata": {},
   "outputs": [],
   "source": [
    "import pandas as pd\n",
    "import requests\n",
    "import numpy as np\n",
    "import os\n",
    "import matplotlib.pyplot as plt\n",
    "%matplotlib inline\n",
    "import seaborn as sns"
   ]
  },
  {
   "cell_type": "code",
   "execution_count": 112,
   "metadata": {},
   "outputs": [],
   "source": [
    "from datetime import *\n",
    "\n",
    "def extract_time(date):\n",
    "    return datetime.strptime(date, \"%Y-%m-%dT%H:%M:%S\")"
   ]
  },
  {
   "cell_type": "markdown",
   "metadata": {},
   "source": [
    "## Cargar datos\n",
    "- Exportar una conversación personal o grupal de Whastapp o Telegram en un formato adecuado (JSON, CSV, etc), no exportar audios, archivos multimedia, etc\n",
    "- Importar archivo y convertirlo en dataframe"
   ]
  },
  {
   "cell_type": "code",
   "execution_count": 113,
   "metadata": {},
   "outputs": [
    {
     "data": {
      "text/html": [
       "<div>\n",
       "<style scoped>\n",
       "    .dataframe tbody tr th:only-of-type {\n",
       "        vertical-align: middle;\n",
       "    }\n",
       "\n",
       "    .dataframe tbody tr th {\n",
       "        vertical-align: top;\n",
       "    }\n",
       "\n",
       "    .dataframe thead th {\n",
       "        text-align: right;\n",
       "    }\n",
       "</style>\n",
       "<table border=\"1\" class=\"dataframe\">\n",
       "  <thead>\n",
       "    <tr style=\"text-align: right;\">\n",
       "      <th></th>\n",
       "      <th>id</th>\n",
       "      <th>type</th>\n",
       "      <th>date</th>\n",
       "      <th>from</th>\n",
       "      <th>from_id</th>\n",
       "      <th>text</th>\n",
       "    </tr>\n",
       "  </thead>\n",
       "  <tbody>\n",
       "    <tr>\n",
       "      <th>0</th>\n",
       "      <td>2</td>\n",
       "      <td>message</td>\n",
       "      <td>2016-08-18T12:32:42</td>\n",
       "      <td>Diego Córdoba (at @juncotic)</td>\n",
       "      <td>user8853399</td>\n",
       "      <td>[Si quieren invitar al resto pasen este link, ...</td>\n",
       "    </tr>\n",
       "    <tr>\n",
       "      <th>1</th>\n",
       "      <td>3</td>\n",
       "      <td>message</td>\n",
       "      <td>2016-08-18T12:46:21</td>\n",
       "      <td>None</td>\n",
       "      <td>user236615816</td>\n",
       "      <td>Okaa</td>\n",
       "    </tr>\n",
       "    <tr>\n",
       "      <th>2</th>\n",
       "      <td>8</td>\n",
       "      <td>message</td>\n",
       "      <td>2016-08-18T13:33:46</td>\n",
       "      <td>None</td>\n",
       "      <td>user235637933</td>\n",
       "      <td>👍</td>\n",
       "    </tr>\n",
       "    <tr>\n",
       "      <th>3</th>\n",
       "      <td>10</td>\n",
       "      <td>message</td>\n",
       "      <td>2016-08-18T18:49:13</td>\n",
       "      <td>Diego Córdoba (at @juncotic)</td>\n",
       "      <td>user8853399</td>\n",
       "      <td>Gente, a los que me pasaron su mail les di el ...</td>\n",
       "    </tr>\n",
       "    <tr>\n",
       "      <th>4</th>\n",
       "      <td>11</td>\n",
       "      <td>message</td>\n",
       "      <td>2016-08-18T18:49:59</td>\n",
       "      <td>Diego Córdoba (at @juncotic)</td>\n",
       "      <td>user8853399</td>\n",
       "      <td>si alguien mas quiere me pasa el mail y los vo...</td>\n",
       "    </tr>\n",
       "    <tr>\n",
       "      <th>...</th>\n",
       "      <td>...</td>\n",
       "      <td>...</td>\n",
       "      <td>...</td>\n",
       "      <td>...</td>\n",
       "      <td>...</td>\n",
       "      <td>...</td>\n",
       "    </tr>\n",
       "    <tr>\n",
       "      <th>3371</th>\n",
       "      <td>3464</td>\n",
       "      <td>message</td>\n",
       "      <td>2021-09-08T17:05:26</td>\n",
       "      <td>Diego Córdoba (at @juncotic)</td>\n",
       "      <td>user8853399</td>\n",
       "      <td>Estimados! Acabo de publicar los videos de la ...</td>\n",
       "    </tr>\n",
       "    <tr>\n",
       "      <th>3372</th>\n",
       "      <td>3465</td>\n",
       "      <td>message</td>\n",
       "      <td>2021-09-08T17:06:03</td>\n",
       "      <td>Julián</td>\n",
       "      <td>user784162152</td>\n",
       "      <td>Joya profe!</td>\n",
       "    </tr>\n",
       "    <tr>\n",
       "      <th>3373</th>\n",
       "      <td>3466</td>\n",
       "      <td>message</td>\n",
       "      <td>2021-09-08T17:06:30</td>\n",
       "      <td>Diego Córdoba (at @juncotic)</td>\n",
       "      <td>user8853399</td>\n",
       "      <td>[Además, hoy durante la clase definimos la fec...</td>\n",
       "    </tr>\n",
       "    <tr>\n",
       "      <th>3374</th>\n",
       "      <td>3468</td>\n",
       "      <td>message</td>\n",
       "      <td>2021-09-08T17:28:53</td>\n",
       "      <td>Tato Beato</td>\n",
       "      <td>user1077377295</td>\n",
       "      <td>👌👌👌</td>\n",
       "    </tr>\n",
       "    <tr>\n",
       "      <th>3375</th>\n",
       "      <td>3469</td>\n",
       "      <td>message</td>\n",
       "      <td>2021-09-08T17:36:42</td>\n",
       "      <td>Tomas Gañan</td>\n",
       "      <td>user864662278</td>\n",
       "      <td>Gracias Diego</td>\n",
       "    </tr>\n",
       "  </tbody>\n",
       "</table>\n",
       "<p>3376 rows × 6 columns</p>\n",
       "</div>"
      ],
      "text/plain": [
       "        id     type                 date                          from  \\\n",
       "0        2  message  2016-08-18T12:32:42  Diego Córdoba (at @juncotic)   \n",
       "1        3  message  2016-08-18T12:46:21                          None   \n",
       "2        8  message  2016-08-18T13:33:46                          None   \n",
       "3       10  message  2016-08-18T18:49:13  Diego Córdoba (at @juncotic)   \n",
       "4       11  message  2016-08-18T18:49:59  Diego Córdoba (at @juncotic)   \n",
       "...    ...      ...                  ...                           ...   \n",
       "3371  3464  message  2021-09-08T17:05:26  Diego Córdoba (at @juncotic)   \n",
       "3372  3465  message  2021-09-08T17:06:03                        Julián   \n",
       "3373  3466  message  2021-09-08T17:06:30  Diego Córdoba (at @juncotic)   \n",
       "3374  3468  message  2021-09-08T17:28:53                    Tato Beato   \n",
       "3375  3469  message  2021-09-08T17:36:42                   Tomas Gañan   \n",
       "\n",
       "             from_id                                               text  \n",
       "0        user8853399  [Si quieren invitar al resto pasen este link, ...  \n",
       "1      user236615816                                               Okaa  \n",
       "2      user235637933                                                  👍  \n",
       "3        user8853399  Gente, a los que me pasaron su mail les di el ...  \n",
       "4        user8853399  si alguien mas quiere me pasa el mail y los vo...  \n",
       "...              ...                                                ...  \n",
       "3371     user8853399  Estimados! Acabo de publicar los videos de la ...  \n",
       "3372   user784162152                                        Joya profe!  \n",
       "3373     user8853399  [Además, hoy durante la clase definimos la fec...  \n",
       "3374  user1077377295                                                👌👌👌  \n",
       "3375   user864662278                                      Gracias Diego  \n",
       "\n",
       "[3376 rows x 6 columns]"
      ]
     },
     "execution_count": 113,
     "metadata": {},
     "output_type": "execute_result"
    }
   ],
   "source": [
    "import pandas as pd\n",
    "\n",
    "df = pd.read_json(\"../data/result.json\")\n",
    "\n",
    "df = pd.DataFrame([msg for msg in df[\"messages\"] if msg[\"type\"] == \"message\"])\n",
    "\n",
    "df = df.filter(items = ['id','type', 'date', 'from', 'from_id', 'text'])\n",
    "\n",
    "df"
   ]
  },
  {
   "cell_type": "markdown",
   "metadata": {},
   "source": [
    "## Conocer los datos\n",
    "\n",
    "- Observar que tipo de datos tiene el dataframe y que tipo de valores tiene\n",
    "- Explicar que significa cada campo y que tipo de acciones quedan registradas"
   ]
  },
  {
   "cell_type": "code",
   "execution_count": 114,
   "metadata": {},
   "outputs": [
    {
     "data": {
      "text/plain": [
       "id          int64\n",
       "type       object\n",
       "date       object\n",
       "from       object\n",
       "from_id    object\n",
       "text       object\n",
       "dtype: object"
      ]
     },
     "execution_count": 114,
     "metadata": {},
     "output_type": "execute_result"
    }
   ],
   "source": [
    "df.dtypes"
   ]
  },
  {
   "cell_type": "markdown",
   "metadata": {},
   "source": [
    "# Campos del DataFrame\n",
    "- id: Identificador del mensaje.\n",
    "- type: Tipo de mensaje. Puede ser, mensaje, aviso, anuncio, etc. Hemos filtrado solo aquellos que tienen como tipo 'mensaje'.\n",
    "- date: Fecha del mensaje.\n",
    "- from: Usuario que envio el mensaje.\n",
    "- from_id: Identificador del usuario que envio el mensaje.\n",
    "- text: Contenido del mensaje. Si tiene link, es un listado que contiene el contenido del mensaje y al link que redirije."
   ]
  },
  {
   "cell_type": "markdown",
   "metadata": {},
   "source": [
    "## Datos faltantes\n",
    "\n",
    "- Analizar de manera visual y no visual si existen datos faltantes"
   ]
  },
  {
   "cell_type": "code",
   "execution_count": 115,
   "metadata": {},
   "outputs": [
    {
     "data": {
      "text/html": [
       "<div>\n",
       "<style scoped>\n",
       "    .dataframe tbody tr th:only-of-type {\n",
       "        vertical-align: middle;\n",
       "    }\n",
       "\n",
       "    .dataframe tbody tr th {\n",
       "        vertical-align: top;\n",
       "    }\n",
       "\n",
       "    .dataframe thead th {\n",
       "        text-align: right;\n",
       "    }\n",
       "</style>\n",
       "<table border=\"1\" class=\"dataframe\">\n",
       "  <thead>\n",
       "    <tr style=\"text-align: right;\">\n",
       "      <th></th>\n",
       "      <th>column</th>\n",
       "      <th>type</th>\n",
       "      <th>percentage</th>\n",
       "      <th>quantity</th>\n",
       "    </tr>\n",
       "  </thead>\n",
       "  <tbody>\n",
       "    <tr>\n",
       "      <th>0</th>\n",
       "      <td>id</td>\n",
       "      <td>int64</td>\n",
       "      <td>0.000000</td>\n",
       "      <td>0</td>\n",
       "    </tr>\n",
       "    <tr>\n",
       "      <th>1</th>\n",
       "      <td>type</td>\n",
       "      <td>object</td>\n",
       "      <td>0.000000</td>\n",
       "      <td>0</td>\n",
       "    </tr>\n",
       "    <tr>\n",
       "      <th>2</th>\n",
       "      <td>date</td>\n",
       "      <td>object</td>\n",
       "      <td>0.000000</td>\n",
       "      <td>0</td>\n",
       "    </tr>\n",
       "    <tr>\n",
       "      <th>3</th>\n",
       "      <td>from</td>\n",
       "      <td>object</td>\n",
       "      <td>5.657583</td>\n",
       "      <td>191</td>\n",
       "    </tr>\n",
       "    <tr>\n",
       "      <th>4</th>\n",
       "      <td>from_id</td>\n",
       "      <td>object</td>\n",
       "      <td>0.000000</td>\n",
       "      <td>0</td>\n",
       "    </tr>\n",
       "    <tr>\n",
       "      <th>5</th>\n",
       "      <td>text</td>\n",
       "      <td>object</td>\n",
       "      <td>0.000000</td>\n",
       "      <td>0</td>\n",
       "    </tr>\n",
       "  </tbody>\n",
       "</table>\n",
       "</div>"
      ],
      "text/plain": [
       "    column    type  percentage  quantity\n",
       "0       id   int64    0.000000         0\n",
       "1     type  object    0.000000         0\n",
       "2     date  object    0.000000         0\n",
       "3     from  object    5.657583       191\n",
       "4  from_id  object    0.000000         0\n",
       "5     text  object    0.000000         0"
      ]
     },
     "execution_count": 115,
     "metadata": {},
     "output_type": "execute_result"
    }
   ],
   "source": [
    "import numpy as np\n",
    "\n",
    "missing = []\n",
    "for column in df.columns:\n",
    "    data = {}\n",
    "    data['column'] = column\n",
    "    data['type'] = df[column].dtypes\n",
    "    data['percentage'] = np.mean(df[column].isnull())*100\n",
    "    data['quantity'] = np.sum(df[column].isnull())\n",
    "    missing.append(data)\n",
    "\n",
    "missing_df = pd.DataFrame(missing)\n",
    "missing_df"
   ]
  },
  {
   "cell_type": "code",
   "execution_count": 116,
   "metadata": {},
   "outputs": [
    {
     "data": {
      "text/plain": [
       "<AxesSubplot:>"
      ]
     },
     "execution_count": 116,
     "metadata": {},
     "output_type": "execute_result"
    },
    {
     "data": {
      "image/png": "[encoded data removed]",
      "text/plain": [
       "<Figure size 432x288 with 1 Axes>"
      ]
     },
     "metadata": {
      "needs_background": "light"
     },
     "output_type": "display_data"
    }
   ],
   "source": [
    "import seaborn as sns\n",
    "\n",
    "sns.heatmap(df.isnull(), cbar=False)\n"
   ]
  },
  {
   "cell_type": "markdown",
   "metadata": {},
   "source": [
    "- Tratar datos faltantes en el caso que los haya\n",
    "- Explicar qué método se utilizó y por qué"
   ]
  },
  {
   "cell_type": "code",
   "execution_count": 117,
   "metadata": {},
   "outputs": [
    {
     "data": {
      "text/html": [
       "<div>\n",
       "<style scoped>\n",
       "    .dataframe tbody tr th:only-of-type {\n",
       "        vertical-align: middle;\n",
       "    }\n",
       "\n",
       "    .dataframe tbody tr th {\n",
       "        vertical-align: top;\n",
       "    }\n",
       "\n",
       "    .dataframe thead th {\n",
       "        text-align: right;\n",
       "    }\n",
       "</style>\n",
       "<table border=\"1\" class=\"dataframe\">\n",
       "  <thead>\n",
       "    <tr style=\"text-align: right;\">\n",
       "      <th></th>\n",
       "      <th>id</th>\n",
       "      <th>type</th>\n",
       "      <th>date</th>\n",
       "      <th>from</th>\n",
       "      <th>from_id</th>\n",
       "      <th>text</th>\n",
       "    </tr>\n",
       "  </thead>\n",
       "  <tbody>\n",
       "    <tr>\n",
       "      <th>0</th>\n",
       "      <td>2</td>\n",
       "      <td>message</td>\n",
       "      <td>2016-08-18T12:32:42</td>\n",
       "      <td>Diego Córdoba (at @juncotic)</td>\n",
       "      <td>user8853399</td>\n",
       "      <td>[Si quieren invitar al resto pasen este link, ...</td>\n",
       "    </tr>\n",
       "    <tr>\n",
       "      <th>3</th>\n",
       "      <td>10</td>\n",
       "      <td>message</td>\n",
       "      <td>2016-08-18T18:49:13</td>\n",
       "      <td>Diego Córdoba (at @juncotic)</td>\n",
       "      <td>user8853399</td>\n",
       "      <td>Gente, a los que me pasaron su mail les di el ...</td>\n",
       "    </tr>\n",
       "    <tr>\n",
       "      <th>4</th>\n",
       "      <td>11</td>\n",
       "      <td>message</td>\n",
       "      <td>2016-08-18T18:49:59</td>\n",
       "      <td>Diego Córdoba (at @juncotic)</td>\n",
       "      <td>user8853399</td>\n",
       "      <td>si alguien mas quiere me pasa el mail y los vo...</td>\n",
       "    </tr>\n",
       "    <tr>\n",
       "      <th>6</th>\n",
       "      <td>13</td>\n",
       "      <td>message</td>\n",
       "      <td>2016-08-18T18:50:10</td>\n",
       "      <td>Diego Córdoba (at @juncotic)</td>\n",
       "      <td>user8853399</td>\n",
       "      <td>👍🏼</td>\n",
       "    </tr>\n",
       "    <tr>\n",
       "      <th>7</th>\n",
       "      <td>14</td>\n",
       "      <td>message</td>\n",
       "      <td>2016-08-18T18:50:36</td>\n",
       "      <td>Diego Córdoba (at @juncotic)</td>\n",
       "      <td>user8853399</td>\n",
       "      <td>es un curso introductorio, no es la gran cosa,...</td>\n",
       "    </tr>\n",
       "    <tr>\n",
       "      <th>...</th>\n",
       "      <td>...</td>\n",
       "      <td>...</td>\n",
       "      <td>...</td>\n",
       "      <td>...</td>\n",
       "      <td>...</td>\n",
       "      <td>...</td>\n",
       "    </tr>\n",
       "    <tr>\n",
       "      <th>3371</th>\n",
       "      <td>3464</td>\n",
       "      <td>message</td>\n",
       "      <td>2021-09-08T17:05:26</td>\n",
       "      <td>Diego Córdoba (at @juncotic)</td>\n",
       "      <td>user8853399</td>\n",
       "      <td>Estimados! Acabo de publicar los videos de la ...</td>\n",
       "    </tr>\n",
       "    <tr>\n",
       "      <th>3372</th>\n",
       "      <td>3465</td>\n",
       "      <td>message</td>\n",
       "      <td>2021-09-08T17:06:03</td>\n",
       "      <td>Julián</td>\n",
       "      <td>user784162152</td>\n",
       "      <td>Joya profe!</td>\n",
       "    </tr>\n",
       "    <tr>\n",
       "      <th>3373</th>\n",
       "      <td>3466</td>\n",
       "      <td>message</td>\n",
       "      <td>2021-09-08T17:06:30</td>\n",
       "      <td>Diego Córdoba (at @juncotic)</td>\n",
       "      <td>user8853399</td>\n",
       "      <td>[Además, hoy durante la clase definimos la fec...</td>\n",
       "    </tr>\n",
       "    <tr>\n",
       "      <th>3374</th>\n",
       "      <td>3468</td>\n",
       "      <td>message</td>\n",
       "      <td>2021-09-08T17:28:53</td>\n",
       "      <td>Tato Beato</td>\n",
       "      <td>user1077377295</td>\n",
       "      <td>👌👌👌</td>\n",
       "    </tr>\n",
       "    <tr>\n",
       "      <th>3375</th>\n",
       "      <td>3469</td>\n",
       "      <td>message</td>\n",
       "      <td>2021-09-08T17:36:42</td>\n",
       "      <td>Tomas Gañan</td>\n",
       "      <td>user864662278</td>\n",
       "      <td>Gracias Diego</td>\n",
       "    </tr>\n",
       "  </tbody>\n",
       "</table>\n",
       "<p>3185 rows × 6 columns</p>\n",
       "</div>"
      ],
      "text/plain": [
       "        id     type                 date                          from  \\\n",
       "0        2  message  2016-08-18T12:32:42  Diego Córdoba (at @juncotic)   \n",
       "3       10  message  2016-08-18T18:49:13  Diego Córdoba (at @juncotic)   \n",
       "4       11  message  2016-08-18T18:49:59  Diego Córdoba (at @juncotic)   \n",
       "6       13  message  2016-08-18T18:50:10  Diego Córdoba (at @juncotic)   \n",
       "7       14  message  2016-08-18T18:50:36  Diego Córdoba (at @juncotic)   \n",
       "...    ...      ...                  ...                           ...   \n",
       "3371  3464  message  2021-09-08T17:05:26  Diego Córdoba (at @juncotic)   \n",
       "3372  3465  message  2021-09-08T17:06:03                        Julián   \n",
       "3373  3466  message  2021-09-08T17:06:30  Diego Córdoba (at @juncotic)   \n",
       "3374  3468  message  2021-09-08T17:28:53                    Tato Beato   \n",
       "3375  3469  message  2021-09-08T17:36:42                   Tomas Gañan   \n",
       "\n",
       "             from_id                                               text  \n",
       "0        user8853399  [Si quieren invitar al resto pasen este link, ...  \n",
       "3        user8853399  Gente, a los que me pasaron su mail les di el ...  \n",
       "4        user8853399  si alguien mas quiere me pasa el mail y los vo...  \n",
       "6        user8853399                                                 👍🏼  \n",
       "7        user8853399  es un curso introductorio, no es la gran cosa,...  \n",
       "...              ...                                                ...  \n",
       "3371     user8853399  Estimados! Acabo de publicar los videos de la ...  \n",
       "3372   user784162152                                        Joya profe!  \n",
       "3373     user8853399  [Además, hoy durante la clase definimos la fec...  \n",
       "3374  user1077377295                                                👌👌👌  \n",
       "3375   user864662278                                      Gracias Diego  \n",
       "\n",
       "[3185 rows x 6 columns]"
      ]
     },
     "execution_count": 117,
     "metadata": {},
     "output_type": "execute_result"
    }
   ],
   "source": [
    "df_clear = df[~df['from'].isnull()]\n",
    "\n",
    "df_clear"
   ]
  },
  {
   "cell_type": "markdown",
   "id": "cb72a0d7",
   "metadata": {},
   "source": [
    "Borramos las lineas vacias ya que son mensajes de personas que han salido o han sido expulsados del grupo y no nos interesa ya que son mensajes enviados por alguien inexistente, por lo tanto, son irrelevantes."
   ]
  },
  {
   "cell_type": "code",
   "execution_count": 118,
   "id": "19a8d1ff",
   "metadata": {},
   "outputs": [
    {
     "data": {
      "text/html": [
       "<div>\n",
       "<style scoped>\n",
       "    .dataframe tbody tr th:only-of-type {\n",
       "        vertical-align: middle;\n",
       "    }\n",
       "\n",
       "    .dataframe tbody tr th {\n",
       "        vertical-align: top;\n",
       "    }\n",
       "\n",
       "    .dataframe thead th {\n",
       "        text-align: right;\n",
       "    }\n",
       "</style>\n",
       "<table border=\"1\" class=\"dataframe\">\n",
       "  <thead>\n",
       "    <tr style=\"text-align: right;\">\n",
       "      <th></th>\n",
       "      <th>column</th>\n",
       "      <th>type</th>\n",
       "      <th>percentage</th>\n",
       "      <th>quantity</th>\n",
       "    </tr>\n",
       "  </thead>\n",
       "  <tbody>\n",
       "    <tr>\n",
       "      <th>0</th>\n",
       "      <td>id</td>\n",
       "      <td>int64</td>\n",
       "      <td>0.0</td>\n",
       "      <td>0</td>\n",
       "    </tr>\n",
       "    <tr>\n",
       "      <th>1</th>\n",
       "      <td>type</td>\n",
       "      <td>object</td>\n",
       "      <td>0.0</td>\n",
       "      <td>0</td>\n",
       "    </tr>\n",
       "    <tr>\n",
       "      <th>2</th>\n",
       "      <td>date</td>\n",
       "      <td>object</td>\n",
       "      <td>0.0</td>\n",
       "      <td>0</td>\n",
       "    </tr>\n",
       "    <tr>\n",
       "      <th>3</th>\n",
       "      <td>from</td>\n",
       "      <td>object</td>\n",
       "      <td>0.0</td>\n",
       "      <td>0</td>\n",
       "    </tr>\n",
       "    <tr>\n",
       "      <th>4</th>\n",
       "      <td>from_id</td>\n",
       "      <td>object</td>\n",
       "      <td>0.0</td>\n",
       "      <td>0</td>\n",
       "    </tr>\n",
       "    <tr>\n",
       "      <th>5</th>\n",
       "      <td>text</td>\n",
       "      <td>object</td>\n",
       "      <td>0.0</td>\n",
       "      <td>0</td>\n",
       "    </tr>\n",
       "  </tbody>\n",
       "</table>\n",
       "</div>"
      ],
      "text/plain": [
       "    column    type  percentage  quantity\n",
       "0       id   int64         0.0         0\n",
       "1     type  object         0.0         0\n",
       "2     date  object         0.0         0\n",
       "3     from  object         0.0         0\n",
       "4  from_id  object         0.0         0\n",
       "5     text  object         0.0         0"
      ]
     },
     "execution_count": 118,
     "metadata": {},
     "output_type": "execute_result"
    }
   ],
   "source": [
    "missing = []\n",
    "for column in df_clear.columns:\n",
    "    data = {}\n",
    "    data['column'] = column\n",
    "    data['type'] = df[column].dtypes\n",
    "    data['percentage'] = np.mean(df_clear[column].isnull())*100\n",
    "    data['quantity'] = np.sum(df_clear[column].isnull())\n",
    "    missing.append(data)\n",
    "\n",
    "missing_df = pd.DataFrame(missing)\n",
    "missing_df"
   ]
  },
  {
   "cell_type": "markdown",
   "metadata": {},
   "source": [
    "## Outliers\n",
    "\n",
    "- Analizar de manera visual y no visual si existen valores atípicos para cada valor no categórico"
   ]
  },
  {
   "cell_type": "code",
   "execution_count": 119,
   "metadata": {},
   "outputs": [
    {
     "data": {
      "text/html": [
       "<div>\n",
       "<style scoped>\n",
       "    .dataframe tbody tr th:only-of-type {\n",
       "        vertical-align: middle;\n",
       "    }\n",
       "\n",
       "    .dataframe tbody tr th {\n",
       "        vertical-align: top;\n",
       "    }\n",
       "\n",
       "    .dataframe thead th {\n",
       "        text-align: right;\n",
       "    }\n",
       "</style>\n",
       "<table border=\"1\" class=\"dataframe\">\n",
       "  <thead>\n",
       "    <tr style=\"text-align: right;\">\n",
       "      <th></th>\n",
       "      <th>type</th>\n",
       "      <th>from</th>\n",
       "    </tr>\n",
       "  </thead>\n",
       "  <tbody>\n",
       "    <tr>\n",
       "      <th>count</th>\n",
       "      <td>3185</td>\n",
       "      <td>3185</td>\n",
       "    </tr>\n",
       "    <tr>\n",
       "      <th>unique</th>\n",
       "      <td>1</td>\n",
       "      <td>37</td>\n",
       "    </tr>\n",
       "    <tr>\n",
       "      <th>top</th>\n",
       "      <td>message</td>\n",
       "      <td>Diego Córdoba (at @juncotic)</td>\n",
       "    </tr>\n",
       "    <tr>\n",
       "      <th>freq</th>\n",
       "      <td>3185</td>\n",
       "      <td>1593</td>\n",
       "    </tr>\n",
       "  </tbody>\n",
       "</table>\n",
       "</div>"
      ],
      "text/plain": [
       "           type                          from\n",
       "count      3185                          3185\n",
       "unique        1                            37\n",
       "top     message  Diego Córdoba (at @juncotic)\n",
       "freq       3185                          1593"
      ]
     },
     "execution_count": 119,
     "metadata": {},
     "output_type": "execute_result"
    }
   ],
   "source": [
    "df_clear[['type', 'from']].describe()"
   ]
  },
  {
   "cell_type": "markdown",
   "id": "6d7c89dd",
   "metadata": {},
   "source": [
    "Se tiene en cuenta que hay 3185 mensajes, de los cuales, el usuario que escribrio con mas frecuencia es Diego Córdoba entre otros 37 usuarios."
   ]
  },
  {
   "cell_type": "code",
   "execution_count": 120,
   "id": "0503e3bb",
   "metadata": {},
   "outputs": [
    {
     "name": "stdout",
     "output_type": "stream",
     "text": [
      "id    1646.0\n",
      "dtype: float64\n"
     ]
    }
   ],
   "source": [
    "Q1 = df_clear.quantile(0.25)\n",
    "Q3 = df_clear.quantile(0.75)\n",
    "IQR = Q3 - Q1\n",
    "print(IQR)"
   ]
  },
  {
   "cell_type": "markdown",
   "id": "3076663a",
   "metadata": {},
   "source": [
    "Con el IQR podemos observar la tendencia central de los datos"
   ]
  },
  {
   "cell_type": "code",
   "execution_count": 121,
   "id": "393c55fd",
   "metadata": {},
   "outputs": [
    {
     "name": "stdout",
     "output_type": "stream",
     "text": [
      "\n",
      "Rango Inferior:\n",
      "id   -1480.0\n",
      "dtype: float64\n",
      "\n",
      "Rango Superior:\n",
      "id    5104.0\n",
      "dtype: float64\n",
      "\n"
     ]
    }
   ],
   "source": [
    "# Rangos normales de datos\n",
    "lower_rank = Q1 - 1.5 * IQR\n",
    "higher_rank = Q3 + 1.5 * IQR\n",
    "\n",
    "print(f\"\"\"\n",
    "Rango Inferior:\n",
    "{lower_rank}\n",
    "\n",
    "Rango Superior:\n",
    "{higher_rank}\n",
    "\"\"\")"
   ]
  },
  {
   "cell_type": "code",
   "execution_count": 122,
   "id": "254984de",
   "metadata": {},
   "outputs": [
    {
     "name": "stderr",
     "output_type": "stream",
     "text": [
      "C:\\Users\\Juan Pablo\\AppData\\Local\\Temp/ipykernel_820/3629132285.py:2: FutureWarning: Automatic reindexing on DataFrame vs Series comparisons is deprecated and will raise ValueError in a future version.  Do `left, right = left.align(right, axis=1, copy=False)` before e.g. `left == right`\n",
      "  df_outliers = (df_clear < lower_rank) | (df_clear > higher_rank)\n"
     ]
    },
    {
     "data": {
      "text/html": [
       "<div>\n",
       "<style scoped>\n",
       "    .dataframe tbody tr th:only-of-type {\n",
       "        vertical-align: middle;\n",
       "    }\n",
       "\n",
       "    .dataframe tbody tr th {\n",
       "        vertical-align: top;\n",
       "    }\n",
       "\n",
       "    .dataframe thead th {\n",
       "        text-align: right;\n",
       "    }\n",
       "</style>\n",
       "<table border=\"1\" class=\"dataframe\">\n",
       "  <thead>\n",
       "    <tr style=\"text-align: right;\">\n",
       "      <th></th>\n",
       "      <th>date</th>\n",
       "      <th>from</th>\n",
       "      <th>from_id</th>\n",
       "      <th>id</th>\n",
       "      <th>text</th>\n",
       "      <th>type</th>\n",
       "    </tr>\n",
       "  </thead>\n",
       "  <tbody>\n",
       "    <tr>\n",
       "      <th>0</th>\n",
       "      <td>False</td>\n",
       "      <td>False</td>\n",
       "      <td>False</td>\n",
       "      <td>False</td>\n",
       "      <td>False</td>\n",
       "      <td>False</td>\n",
       "    </tr>\n",
       "    <tr>\n",
       "      <th>3</th>\n",
       "      <td>False</td>\n",
       "      <td>False</td>\n",
       "      <td>False</td>\n",
       "      <td>False</td>\n",
       "      <td>False</td>\n",
       "      <td>False</td>\n",
       "    </tr>\n",
       "    <tr>\n",
       "      <th>4</th>\n",
       "      <td>False</td>\n",
       "      <td>False</td>\n",
       "      <td>False</td>\n",
       "      <td>False</td>\n",
       "      <td>False</td>\n",
       "      <td>False</td>\n",
       "    </tr>\n",
       "    <tr>\n",
       "      <th>6</th>\n",
       "      <td>False</td>\n",
       "      <td>False</td>\n",
       "      <td>False</td>\n",
       "      <td>False</td>\n",
       "      <td>False</td>\n",
       "      <td>False</td>\n",
       "    </tr>\n",
       "    <tr>\n",
       "      <th>7</th>\n",
       "      <td>False</td>\n",
       "      <td>False</td>\n",
       "      <td>False</td>\n",
       "      <td>False</td>\n",
       "      <td>False</td>\n",
       "      <td>False</td>\n",
       "    </tr>\n",
       "    <tr>\n",
       "      <th>...</th>\n",
       "      <td>...</td>\n",
       "      <td>...</td>\n",
       "      <td>...</td>\n",
       "      <td>...</td>\n",
       "      <td>...</td>\n",
       "      <td>...</td>\n",
       "    </tr>\n",
       "    <tr>\n",
       "      <th>3371</th>\n",
       "      <td>False</td>\n",
       "      <td>False</td>\n",
       "      <td>False</td>\n",
       "      <td>False</td>\n",
       "      <td>False</td>\n",
       "      <td>False</td>\n",
       "    </tr>\n",
       "    <tr>\n",
       "      <th>3372</th>\n",
       "      <td>False</td>\n",
       "      <td>False</td>\n",
       "      <td>False</td>\n",
       "      <td>False</td>\n",
       "      <td>False</td>\n",
       "      <td>False</td>\n",
       "    </tr>\n",
       "    <tr>\n",
       "      <th>3373</th>\n",
       "      <td>False</td>\n",
       "      <td>False</td>\n",
       "      <td>False</td>\n",
       "      <td>False</td>\n",
       "      <td>False</td>\n",
       "      <td>False</td>\n",
       "    </tr>\n",
       "    <tr>\n",
       "      <th>3374</th>\n",
       "      <td>False</td>\n",
       "      <td>False</td>\n",
       "      <td>False</td>\n",
       "      <td>False</td>\n",
       "      <td>False</td>\n",
       "      <td>False</td>\n",
       "    </tr>\n",
       "    <tr>\n",
       "      <th>3375</th>\n",
       "      <td>False</td>\n",
       "      <td>False</td>\n",
       "      <td>False</td>\n",
       "      <td>False</td>\n",
       "      <td>False</td>\n",
       "      <td>False</td>\n",
       "    </tr>\n",
       "  </tbody>\n",
       "</table>\n",
       "<p>3185 rows × 6 columns</p>\n",
       "</div>"
      ],
      "text/plain": [
       "       date   from  from_id     id   text   type\n",
       "0     False  False    False  False  False  False\n",
       "3     False  False    False  False  False  False\n",
       "4     False  False    False  False  False  False\n",
       "6     False  False    False  False  False  False\n",
       "7     False  False    False  False  False  False\n",
       "...     ...    ...      ...    ...    ...    ...\n",
       "3371  False  False    False  False  False  False\n",
       "3372  False  False    False  False  False  False\n",
       "3373  False  False    False  False  False  False\n",
       "3374  False  False    False  False  False  False\n",
       "3375  False  False    False  False  False  False\n",
       "\n",
       "[3185 rows x 6 columns]"
      ]
     },
     "execution_count": 122,
     "metadata": {},
     "output_type": "execute_result"
    }
   ],
   "source": [
    "# Mostrar si un valor es atipico o no\n",
    "df_outliers = (df_clear < lower_rank) | (df_clear > higher_rank)\n",
    "df_outliers"
   ]
  },
  {
   "cell_type": "code",
   "execution_count": 123,
   "id": "6eb84fbe",
   "metadata": {},
   "outputs": [
    {
     "data": {
      "text/plain": [
       "<AxesSubplot:>"
      ]
     },
     "execution_count": 123,
     "metadata": {},
     "output_type": "execute_result"
    },
    {
     "data": {
      "image/png": "[encoded data removed]",
      "text/plain": [
       "<Figure size 432x288 with 1 Axes>"
      ]
     },
     "metadata": {
      "needs_background": "light"
     },
     "output_type": "display_data"
    }
   ],
   "source": [
    "sns.heatmap(df_outliers, cbar=False)"
   ]
  },
  {
   "cell_type": "code",
   "execution_count": 125,
   "id": "e4719393",
   "metadata": {},
   "outputs": [
    {
     "data": {
      "text/plain": [
       "<AxesSubplot:>"
      ]
     },
     "execution_count": 125,
     "metadata": {},
     "output_type": "execute_result"
    },
    {
     "data": {
      "image/png": "[encoded data removed]",
      "text/plain": [
       "<Figure size 432x288 with 1 Axes>"
      ]
     },
     "metadata": {
      "needs_background": "light"
     },
     "output_type": "display_data"
    }
   ],
   "source": [
    "df.boxplot()"
   ]
  },
  {
   "cell_type": "markdown",
   "metadata": {},
   "source": [
    "- Si existen valores atípicos, ¿estos son causados por errores en la carga de datos o por otra razón?. Explicar la razón"
   ]
  },
  {
   "cell_type": "markdown",
   "id": "d69aedc2",
   "metadata": {},
   "source": [
    "No hay valores atípicos en la muestra recolectada."
   ]
  }
 ],
 "metadata": {
  "interpreter": {
   "hash": "63fd5069d213b44bf678585dea6b12cceca9941eaf7f819626cde1f2670de90d"
  },
  "kernelspec": {
   "display_name": "Python 3.9.7 64-bit",
   "name": "python3"
  },
  "language_info": {
   "codemirror_mode": {
    "name": "ipython",
    "version": 3
   },
   "file_extension": ".py",
   "mimetype": "text/x-python",
   "name": "python",
   "nbconvert_exporter": "python",
   "pygments_lexer": "ipython3",
   "version": "3.9.7"
  }
 },
 "nbformat": 4,
 "nbformat_minor": 5
}
