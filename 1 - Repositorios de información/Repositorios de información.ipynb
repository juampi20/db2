{
 "cells": [
  {
   "cell_type": "code",
   "execution_count": 1,
   "metadata": {},
   "outputs": [],
   "source": [
    "import pandas as pd\n",
    "import requests\n",
    "import os"
   ]
  },
  {
   "cell_type": "markdown",
   "metadata": {},
   "source": [
    "# Descomprimir archivos"
   ]
  },
  {
   "cell_type": "markdown",
   "metadata": {},
   "source": [
    "## Zip"
   ]
  },
  {
   "cell_type": "code",
   "execution_count": 3,
   "metadata": {},
   "outputs": [],
   "source": [
    "# Importar zipfile\n",
    "from zipfile import ZipFile\n",
    "\n",
    "# Path a archivo zip\n",
    "file = '../data/sales.zip'\n",
    "\n",
    "# Leer archivo zip\n",
    "with ZipFile(file, 'r') as objetoZip:\n",
    "   # Extraer todo el contenido en la carpeta\n",
    "   objetoZip.extractall(\"../data/\")"
   ]
  },
  {
   "cell_type": "markdown",
   "metadata": {},
   "source": [
    "## Tar Gz"
   ]
  },
  {
   "cell_type": "code",
   "execution_count": 4,
   "metadata": {},
   "outputs": [],
   "source": [
    "# Importar archivo tar\n",
    "import tarfile\n",
    "\n",
    "# Abrir archivo tar.gz tgz\n",
    "objetoTar = tarfile.open(\"../data/globos.tar.gz\", \"r:gz\")\n",
    "# Extraer todo el contenido en la carpeta\n",
    "objetoTar.extractall(\"../data/\")\n",
    "# Cerrar lectura\n",
    "objetoTar.close()"
   ]
  },
  {
   "cell_type": "markdown",
   "metadata": {},
   "source": [
    "# Archivos de texto plano"
   ]
  },
  {
   "cell_type": "markdown",
   "metadata": {},
   "source": [
    "## CSV"
   ]
  },
  {
   "cell_type": "code",
   "execution_count": 5,
   "metadata": {},
   "outputs": [
    {
     "data": {
      "text/html": [
       "<div>\n",
       "<style scoped>\n",
       "    .dataframe tbody tr th:only-of-type {\n",
       "        vertical-align: middle;\n",
       "    }\n",
       "\n",
       "    .dataframe tbody tr th {\n",
       "        vertical-align: top;\n",
       "    }\n",
       "\n",
       "    .dataframe thead th {\n",
       "        text-align: right;\n",
       "    }\n",
       "</style>\n",
       "<table border=\"1\" class=\"dataframe\">\n",
       "  <thead>\n",
       "    <tr style=\"text-align: right;\">\n",
       "      <th></th>\n",
       "      <th>Prefix</th>\n",
       "      <th>Assignment</th>\n",
       "      <th>Tutorial</th>\n",
       "      <th>Midterm</th>\n",
       "      <th>TakeHome</th>\n",
       "      <th>Final</th>\n",
       "    </tr>\n",
       "  </thead>\n",
       "  <tbody>\n",
       "    <tr>\n",
       "      <th>0</th>\n",
       "      <td>5</td>\n",
       "      <td>57.14</td>\n",
       "      <td>34.09</td>\n",
       "      <td>64.38</td>\n",
       "      <td>51.48</td>\n",
       "      <td>52.50</td>\n",
       "    </tr>\n",
       "    <tr>\n",
       "      <th>1</th>\n",
       "      <td>8</td>\n",
       "      <td>95.05</td>\n",
       "      <td>105.49</td>\n",
       "      <td>67.50</td>\n",
       "      <td>99.07</td>\n",
       "      <td>68.33</td>\n",
       "    </tr>\n",
       "    <tr>\n",
       "      <th>2</th>\n",
       "      <td>8</td>\n",
       "      <td>83.70</td>\n",
       "      <td>83.17</td>\n",
       "      <td>30.00</td>\n",
       "      <td>63.15</td>\n",
       "      <td>48.89</td>\n",
       "    </tr>\n",
       "    <tr>\n",
       "      <th>3</th>\n",
       "      <td>7</td>\n",
       "      <td>81.22</td>\n",
       "      <td>96.06</td>\n",
       "      <td>49.38</td>\n",
       "      <td>105.93</td>\n",
       "      <td>80.56</td>\n",
       "    </tr>\n",
       "    <tr>\n",
       "      <th>4</th>\n",
       "      <td>8</td>\n",
       "      <td>91.32</td>\n",
       "      <td>93.64</td>\n",
       "      <td>95.00</td>\n",
       "      <td>107.41</td>\n",
       "      <td>73.89</td>\n",
       "    </tr>\n",
       "    <tr>\n",
       "      <th>...</th>\n",
       "      <td>...</td>\n",
       "      <td>...</td>\n",
       "      <td>...</td>\n",
       "      <td>...</td>\n",
       "      <td>...</td>\n",
       "      <td>...</td>\n",
       "    </tr>\n",
       "    <tr>\n",
       "      <th>94</th>\n",
       "      <td>8</td>\n",
       "      <td>96.73</td>\n",
       "      <td>103.71</td>\n",
       "      <td>45.00</td>\n",
       "      <td>93.52</td>\n",
       "      <td>61.94</td>\n",
       "    </tr>\n",
       "    <tr>\n",
       "      <th>95</th>\n",
       "      <td>7</td>\n",
       "      <td>85.34</td>\n",
       "      <td>80.54</td>\n",
       "      <td>41.25</td>\n",
       "      <td>93.70</td>\n",
       "      <td>39.72</td>\n",
       "    </tr>\n",
       "    <tr>\n",
       "      <th>96</th>\n",
       "      <td>8</td>\n",
       "      <td>89.94</td>\n",
       "      <td>102.77</td>\n",
       "      <td>87.50</td>\n",
       "      <td>90.74</td>\n",
       "      <td>87.78</td>\n",
       "    </tr>\n",
       "    <tr>\n",
       "      <th>97</th>\n",
       "      <td>7</td>\n",
       "      <td>95.60</td>\n",
       "      <td>76.13</td>\n",
       "      <td>66.25</td>\n",
       "      <td>99.81</td>\n",
       "      <td>85.56</td>\n",
       "    </tr>\n",
       "    <tr>\n",
       "      <th>98</th>\n",
       "      <td>8</td>\n",
       "      <td>63.40</td>\n",
       "      <td>97.37</td>\n",
       "      <td>73.12</td>\n",
       "      <td>72.78</td>\n",
       "      <td>77.22</td>\n",
       "    </tr>\n",
       "  </tbody>\n",
       "</table>\n",
       "<p>99 rows × 6 columns</p>\n",
       "</div>"
      ],
      "text/plain": [
       "    Prefix  Assignment  Tutorial  Midterm  TakeHome  Final\n",
       "0        5       57.14     34.09    64.38     51.48  52.50\n",
       "1        8       95.05    105.49    67.50     99.07  68.33\n",
       "2        8       83.70     83.17    30.00     63.15  48.89\n",
       "3        7       81.22     96.06    49.38    105.93  80.56\n",
       "4        8       91.32     93.64    95.00    107.41  73.89\n",
       "..     ...         ...       ...      ...       ...    ...\n",
       "94       8       96.73    103.71    45.00     93.52  61.94\n",
       "95       7       85.34     80.54    41.25     93.70  39.72\n",
       "96       8       89.94    102.77    87.50     90.74  87.78\n",
       "97       7       95.60     76.13    66.25     99.81  85.56\n",
       "98       8       63.40     97.37    73.12     72.78  77.22\n",
       "\n",
       "[99 rows x 6 columns]"
      ]
     },
     "execution_count": 5,
     "metadata": {},
     "output_type": "execute_result"
    }
   ],
   "source": [
    "# Leer csv y convertirlo a panda frame\n",
    "df = pd.read_csv(r'../data/class-grades.csv')\n",
    "df"
   ]
  },
  {
   "cell_type": "code",
   "execution_count": null,
   "metadata": {},
   "outputs": [],
   "source": [
    "# Especificar delimitador de columnas\n",
    "df = pd.read_csv(r'../data/adult.data', delimiter = \",\")\n",
    "df"
   ]
  },
  {
   "cell_type": "code",
   "execution_count": null,
   "metadata": {
    "scrolled": true
   },
   "outputs": [],
   "source": [
    "# Especificar que la primer columna no es la cabecera de la tabla\n",
    "df = pd.read_csv('./data/agosto18.txt', delimiter = \"\\t\", header=None)\n",
    "df"
   ]
  },
  {
   "cell_type": "code",
   "execution_count": null,
   "metadata": {},
   "outputs": [],
   "source": [
    "# Cargar cabecera a dataframe\n",
    "df = pd.read_csv('../data/agosto18.txt', delimiter = \"\\t\", header=None)\n",
    "df.columns = [\"Columna 1\",\"Columna 2\",\"Columna 3\", \"Columna 4\",\"Columna 5\",\"Columna 6\",\"Columna 7\",\"Columna 8\",\"Columna 9\",\"Columna 10\",\"Columna 11\",\"Columna 11\",\"Columna 5\",\"Columna 5\",\"Columna 5\",\"Columna 5\",\"Columna 5\",\"Columna 5\",\"Columna 5\",\"Columna 5\",\"Columna 5\",\"Columna 5\",\"Columna 5\",\"Columna 5\",\"Columna 5\",\"Columna 26\",\"Columna 27\",\"Columna 28\",\"Columna 29\",\"Columna 30\",\"Columna 31\",\"Columna 32\",\"Columna 33\",\"Columna 34\",\"Columna 35\",\"Columna 36\"]\n",
    "df"
   ]
  },
  {
   "cell_type": "markdown",
   "metadata": {},
   "source": [
    "## JSON"
   ]
  },
  {
   "cell_type": "code",
   "execution_count": null,
   "metadata": {},
   "outputs": [],
   "source": [
    "# Importar librería de JSON\n",
    "import json\n",
    "\n",
    "# Leer archivo JSON\n",
    "with open('../data/amazonia.json','r') as file:\n",
    "    # Cargar contenido de JSON en diccionario\n",
    "    data = json.load(file)\n",
    "\n",
    "\n",
    "# Convertir JSON en dataframe\n",
    "df = pd.DataFrame(data[\"items\"])\n",
    "df"
   ]
  },
  {
   "cell_type": "markdown",
   "metadata": {},
   "source": [
    "# Hojas de cálculo\n",
    "## Excel"
   ]
  },
  {
   "cell_type": "code",
   "execution_count": null,
   "metadata": {},
   "outputs": [],
   "source": [
    "# Leer contenido de archivo Excel y convertirlo a dataframe\n",
    "df = pd.read_excel(r'../data/vino.xls')\n",
    "df"
   ]
  },
  {
   "cell_type": "code",
   "execution_count": null,
   "metadata": {},
   "outputs": [],
   "source": [
    "# Obtener archivo Excel\n",
    "xl = pd.ExcelFile(r'../data/vino.xls')\n",
    "# Obtener nombres de pestañas\n",
    "xl.sheet_names"
   ]
  },
  {
   "cell_type": "code",
   "execution_count": null,
   "metadata": {},
   "outputs": [],
   "source": [
    "# Leer contenido de una pestaña y convertirlo a dataframe\n",
    "df = pd.read_excel(r'../data/vino.xls',sheet_name='vino2')\n",
    "df"
   ]
  },
  {
   "cell_type": "markdown",
   "metadata": {},
   "source": [
    "## Libre Office Calc"
   ]
  },
  {
   "cell_type": "code",
   "execution_count": null,
   "metadata": {},
   "outputs": [],
   "source": [
    "# Leer contenido de una pestaña y convertirlo a dataframe\n",
    "df = pd.read_excel(r'./data/vino.ods',sheet_name='vino2')\n",
    "df"
   ]
  },
  {
   "cell_type": "markdown",
   "metadata": {},
   "source": [
    "# Base de datos"
   ]
  },
  {
   "cell_type": "markdown",
   "metadata": {},
   "source": [
    "## SQLite"
   ]
  },
  {
   "cell_type": "code",
   "execution_count": null,
   "metadata": {},
   "outputs": [],
   "source": [
    "# Importar librería de SQLite\n",
    "import sqlite3\n",
    "\n",
    "# Abrir conexión con archivo\n",
    "con=sqlite3.connect('./data/course.db')\n",
    "# Crear objetuco cursor\n",
    "cur = con.cursor()\n",
    "# Ejecutar consulta\n",
    "rs = cur.execute('select * from professor')\n",
    "# Guardar resultados de la consulta en un dataframe\n",
    "df = pd.DataFrame(rs.fetchall())\n",
    "# Cerrar conexión\n",
    "con.commit()\n",
    "df"
   ]
  },
  {
   "cell_type": "markdown",
   "metadata": {},
   "source": [
    "## Mysql"
   ]
  },
  {
   "cell_type": "code",
   "execution_count": null,
   "metadata": {},
   "outputs": [],
   "source": [
    "# Importar conector mysql\n",
    "import mysql.connector as connection\n",
    "# Crear conexión a la db\n",
    "db = connection.connect(host=\"localhost\", database = 'Prueba',user=\"root\", passwd=\"12345\",use_pure=True)\n",
    "# Consulta\n",
    "query = \"SELECT * from Profesores;\"\n",
    "# Realizar consulta y convertir el resultado en dataframe\n",
    "df = pd.read_sql(query,db)\n",
    "# Cerrar conexión\n",
    "db.close()\n",
    "df"
   ]
  },
  {
   "cell_type": "markdown",
   "metadata": {},
   "source": [
    "# Web Scrapping"
   ]
  },
  {
   "cell_type": "code",
   "execution_count": null,
   "metadata": {},
   "outputs": [],
   "source": [
    "url = 'https://es.wikipedia.org/wiki/Anexo:Pa%C3%ADses'\n",
    "\n",
    "#Leer elementos table de html y convertirlos a dataframe\n",
    "tables = pd.read_html(url, header=0, index_col=0)\n",
    "\n",
    "tables[1]"
   ]
  },
  {
   "cell_type": "code",
   "execution_count": null,
   "metadata": {},
   "outputs": [],
   "source": [
    "url = 'https://www.inpres.gob.ar/desktop/'\n",
    "\n",
    "#Leer elementos table de html y convertirlos a dataframe\n",
    "tables = pd.read_html(url, header=0, index_col=0)\n",
    "\n",
    "tables[4]"
   ]
  },
  {
   "cell_type": "markdown",
   "metadata": {},
   "source": [
    "# Archivos remotos\n",
    "## Descargar archivo"
   ]
  },
  {
   "cell_type": "code",
   "execution_count": null,
   "metadata": {
    "scrolled": true
   },
   "outputs": [],
   "source": [
    "import requests\n",
    "#URL\n",
    "url = \"https://cdn.buenosaires.gob.ar/datosabiertos/datasets/polideportivos/polideportivos.csv\"\n",
    "#Obtener URL\n",
    "respuesta = requests.get(url)\n",
    "#Obtener contenido de la respuesta\n",
    "contenido = respuesta.content\n",
    "#Abrir archivo para escritura\n",
    "archivo = open('polideportivos.csv', 'wb')\n",
    "#Escribir el contenido\n",
    "archivo.write(contenido)\n",
    "#Cerrar archivo\n",
    "archivo.close()"
   ]
  },
  {
   "cell_type": "markdown",
   "metadata": {},
   "source": [
    "## Leer remotamente"
   ]
  },
  {
   "cell_type": "code",
   "execution_count": null,
   "metadata": {},
   "outputs": [],
   "source": [
    "# Leer csv y convertirlo a panda frame\n",
    "df = pd.read_csv(url)\n",
    "df"
   ]
  },
  {
   "cell_type": "markdown",
   "metadata": {},
   "source": [
    "# API\n",
    "\n",
    "<a href=\"https://github.com/public-apis/public-apis\">Lista de API de acceso público</a>"
   ]
  },
  {
   "cell_type": "code",
   "execution_count": null,
   "metadata": {},
   "outputs": [],
   "source": [
    "# Realizar request a la API\n",
    "r = requests.get('https://dog-facts-api.herokuapp.com/api/v1/resources/dogs/all')\n",
    "# Convertir JSON a diccionario\n",
    "data = r.json()\n",
    "\n",
    "\n",
    "# Convertir diccionario a dataframe\n",
    "df = pd.DataFrame(data)\n",
    "df"
   ]
  },
  {
   "cell_type": "code",
   "execution_count": null,
   "metadata": {},
   "outputs": [],
   "source": [
    "# Realizar request a la API\n",
    "r = requests.get('https://palabras-aleatorias-public-api.herokuapp.com/palabras-aleatorias?_page=1&_size=5')\n",
    "# Convertir JSON a diccionario\n",
    "data = r.json()\n",
    "\n",
    "# Convertir diccionario a dataframe\n",
    "df = pd.DataFrame(data[\"body\"])\n",
    "df"
   ]
  },
  {
   "cell_type": "code",
   "execution_count": null,
   "metadata": {},
   "outputs": [],
   "source": []
  }
 ],
 "metadata": {
  "kernelspec": {
   "display_name": "Python 3",
   "language": "python",
   "name": "python3"
  },
  "language_info": {
   "codemirror_mode": {
    "name": "ipython",
    "version": 3
   },
   "file_extension": ".py",
   "mimetype": "text/x-python",
   "name": "python",
   "nbconvert_exporter": "python",
   "pygments_lexer": "ipython3",
   "version": "3.7.7"
  }
 },
 "nbformat": 4,
 "nbformat_minor": 5
}
