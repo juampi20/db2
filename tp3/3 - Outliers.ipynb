{
 "cells": [
  {
   "cell_type": "markdown",
   "source": [
    "## Valores atípicos\n",
    "\n",
    "Un valor atípico o outlier es un punto de observación dentro de un conjunto de datos que es diferentes del resto de los puntos.\n",
    "\n",
    "Estos valores pueden deberse a un error cometido durante el proceso de obtención y recolección de datos o pueden representar una varianza real en los valores del dataset. Dependiendo del caso pueden ser tratados de diferente manera.\n",
    "\n"
   ],
   "metadata": {}
  },
  {
   "cell_type": "markdown",
   "source": [
    "## Encontrar valores atípicos\n"
   ],
   "metadata": {}
  },
  {
   "cell_type": "code",
   "execution_count": 4,
   "source": [
    "import pandas as pd\r\n",
    "import requests\r\n",
    "import numpy as np\r\n",
    "import os\r\n",
    "import matplotlib.pyplot as plt\r\n",
    "%matplotlib inline\r\n",
    "#import seaborn as sns\r\n",
    "\r\n",
    "# Leer csv\r\n",
    "df = pd.read_csv('data/wine/winequality-red.csv')\r\n",
    "\r\n",
    "df"
   ],
   "outputs": [
    {
     "output_type": "execute_result",
     "data": {
      "text/html": [
       "<div>\n",
       "<style scoped>\n",
       "    .dataframe tbody tr th:only-of-type {\n",
       "        vertical-align: middle;\n",
       "    }\n",
       "\n",
       "    .dataframe tbody tr th {\n",
       "        vertical-align: top;\n",
       "    }\n",
       "\n",
       "    .dataframe thead th {\n",
       "        text-align: right;\n",
       "    }\n",
       "</style>\n",
       "<table border=\"1\" class=\"dataframe\">\n",
       "  <thead>\n",
       "    <tr style=\"text-align: right;\">\n",
       "      <th></th>\n",
       "      <th>fixed acidity</th>\n",
       "      <th>volatile acidity</th>\n",
       "      <th>citric acid</th>\n",
       "      <th>residual sugar</th>\n",
       "      <th>chlorides</th>\n",
       "      <th>free sulfur dioxide</th>\n",
       "      <th>total sulfur dioxide</th>\n",
       "      <th>density</th>\n",
       "      <th>pH</th>\n",
       "      <th>sulphates</th>\n",
       "      <th>alcohol</th>\n",
       "      <th>quality</th>\n",
       "    </tr>\n",
       "  </thead>\n",
       "  <tbody>\n",
       "    <tr>\n",
       "      <th>0</th>\n",
       "      <td>7.4</td>\n",
       "      <td>0.70</td>\n",
       "      <td>0.00</td>\n",
       "      <td>1.9</td>\n",
       "      <td>76.00</td>\n",
       "      <td>11.0</td>\n",
       "      <td>34.0</td>\n",
       "      <td>0.99780</td>\n",
       "      <td>3.51</td>\n",
       "      <td>0.56</td>\n",
       "      <td>9.4</td>\n",
       "      <td>5</td>\n",
       "    </tr>\n",
       "    <tr>\n",
       "      <th>1</th>\n",
       "      <td>7.8</td>\n",
       "      <td>0.88</td>\n",
       "      <td>0.00</td>\n",
       "      <td>2.6</td>\n",
       "      <td>98.00</td>\n",
       "      <td>25.0</td>\n",
       "      <td>67.0</td>\n",
       "      <td>0.99680</td>\n",
       "      <td>3.20</td>\n",
       "      <td>0.68</td>\n",
       "      <td>9.8</td>\n",
       "      <td>5</td>\n",
       "    </tr>\n",
       "    <tr>\n",
       "      <th>2</th>\n",
       "      <td>7.8</td>\n",
       "      <td>0.76</td>\n",
       "      <td>0.04</td>\n",
       "      <td>2.3</td>\n",
       "      <td>92.00</td>\n",
       "      <td>15.0</td>\n",
       "      <td>54.0</td>\n",
       "      <td>997.00000</td>\n",
       "      <td>3.26</td>\n",
       "      <td>0.65</td>\n",
       "      <td>9.8</td>\n",
       "      <td>5</td>\n",
       "    </tr>\n",
       "    <tr>\n",
       "      <th>3</th>\n",
       "      <td>11.2</td>\n",
       "      <td>0.28</td>\n",
       "      <td>0.56</td>\n",
       "      <td>1.9</td>\n",
       "      <td>75.00</td>\n",
       "      <td>17.0</td>\n",
       "      <td>60.0</td>\n",
       "      <td>998.00000</td>\n",
       "      <td>3.16</td>\n",
       "      <td>0.58</td>\n",
       "      <td>9.8</td>\n",
       "      <td>6</td>\n",
       "    </tr>\n",
       "    <tr>\n",
       "      <th>4</th>\n",
       "      <td>7.4</td>\n",
       "      <td>0.70</td>\n",
       "      <td>0.00</td>\n",
       "      <td>1.9</td>\n",
       "      <td>76.00</td>\n",
       "      <td>11.0</td>\n",
       "      <td>34.0</td>\n",
       "      <td>0.99780</td>\n",
       "      <td>3.51</td>\n",
       "      <td>0.56</td>\n",
       "      <td>9.4</td>\n",
       "      <td>5</td>\n",
       "    </tr>\n",
       "    <tr>\n",
       "      <th>...</th>\n",
       "      <td>...</td>\n",
       "      <td>...</td>\n",
       "      <td>...</td>\n",
       "      <td>...</td>\n",
       "      <td>...</td>\n",
       "      <td>...</td>\n",
       "      <td>...</td>\n",
       "      <td>...</td>\n",
       "      <td>...</td>\n",
       "      <td>...</td>\n",
       "      <td>...</td>\n",
       "      <td>...</td>\n",
       "    </tr>\n",
       "    <tr>\n",
       "      <th>1594</th>\n",
       "      <td>6.2</td>\n",
       "      <td>0.60</td>\n",
       "      <td>0.08</td>\n",
       "      <td>2.0</td>\n",
       "      <td>0.09</td>\n",
       "      <td>32.0</td>\n",
       "      <td>44.0</td>\n",
       "      <td>0.99490</td>\n",
       "      <td>3.45</td>\n",
       "      <td>0.58</td>\n",
       "      <td>10.5</td>\n",
       "      <td>5</td>\n",
       "    </tr>\n",
       "    <tr>\n",
       "      <th>1595</th>\n",
       "      <td>5.9</td>\n",
       "      <td>0.55</td>\n",
       "      <td>0.10</td>\n",
       "      <td>2.2</td>\n",
       "      <td>62.00</td>\n",
       "      <td>39.0</td>\n",
       "      <td>51.0</td>\n",
       "      <td>0.99512</td>\n",
       "      <td>3.52</td>\n",
       "      <td>0.76</td>\n",
       "      <td>11.2</td>\n",
       "      <td>6</td>\n",
       "    </tr>\n",
       "    <tr>\n",
       "      <th>1596</th>\n",
       "      <td>6.3</td>\n",
       "      <td>0.51</td>\n",
       "      <td>0.13</td>\n",
       "      <td>2.3</td>\n",
       "      <td>76.00</td>\n",
       "      <td>29.0</td>\n",
       "      <td>40.0</td>\n",
       "      <td>0.99574</td>\n",
       "      <td>3.42</td>\n",
       "      <td>0.75</td>\n",
       "      <td>11.0</td>\n",
       "      <td>6</td>\n",
       "    </tr>\n",
       "    <tr>\n",
       "      <th>1597</th>\n",
       "      <td>5.9</td>\n",
       "      <td>645.00</td>\n",
       "      <td>0.12</td>\n",
       "      <td>2.0</td>\n",
       "      <td>75.00</td>\n",
       "      <td>32.0</td>\n",
       "      <td>44.0</td>\n",
       "      <td>0.99547</td>\n",
       "      <td>3.57</td>\n",
       "      <td>0.71</td>\n",
       "      <td>10.2</td>\n",
       "      <td>5</td>\n",
       "    </tr>\n",
       "    <tr>\n",
       "      <th>1598</th>\n",
       "      <td>6.0</td>\n",
       "      <td>0.31</td>\n",
       "      <td>0.47</td>\n",
       "      <td>3.6</td>\n",
       "      <td>67.00</td>\n",
       "      <td>18.0</td>\n",
       "      <td>42.0</td>\n",
       "      <td>0.99549</td>\n",
       "      <td>3.39</td>\n",
       "      <td>0.66</td>\n",
       "      <td>11.0</td>\n",
       "      <td>6</td>\n",
       "    </tr>\n",
       "  </tbody>\n",
       "</table>\n",
       "<p>1599 rows × 12 columns</p>\n",
       "</div>"
      ],
      "text/plain": [
       "      fixed acidity  volatile acidity  citric acid  residual sugar  chlorides  \\\n",
       "0               7.4              0.70         0.00             1.9      76.00   \n",
       "1               7.8              0.88         0.00             2.6      98.00   \n",
       "2               7.8              0.76         0.04             2.3      92.00   \n",
       "3              11.2              0.28         0.56             1.9      75.00   \n",
       "4               7.4              0.70         0.00             1.9      76.00   \n",
       "...             ...               ...          ...             ...        ...   \n",
       "1594            6.2              0.60         0.08             2.0       0.09   \n",
       "1595            5.9              0.55         0.10             2.2      62.00   \n",
       "1596            6.3              0.51         0.13             2.3      76.00   \n",
       "1597            5.9            645.00         0.12             2.0      75.00   \n",
       "1598            6.0              0.31         0.47             3.6      67.00   \n",
       "\n",
       "      free sulfur dioxide  total sulfur dioxide    density    pH  sulphates  \\\n",
       "0                    11.0                  34.0    0.99780  3.51       0.56   \n",
       "1                    25.0                  67.0    0.99680  3.20       0.68   \n",
       "2                    15.0                  54.0  997.00000  3.26       0.65   \n",
       "3                    17.0                  60.0  998.00000  3.16       0.58   \n",
       "4                    11.0                  34.0    0.99780  3.51       0.56   \n",
       "...                   ...                   ...        ...   ...        ...   \n",
       "1594                 32.0                  44.0    0.99490  3.45       0.58   \n",
       "1595                 39.0                  51.0    0.99512  3.52       0.76   \n",
       "1596                 29.0                  40.0    0.99574  3.42       0.75   \n",
       "1597                 32.0                  44.0    0.99547  3.57       0.71   \n",
       "1598                 18.0                  42.0    0.99549  3.39       0.66   \n",
       "\n",
       "      alcohol  quality  \n",
       "0         9.4        5  \n",
       "1         9.8        5  \n",
       "2         9.8        5  \n",
       "3         9.8        6  \n",
       "4         9.4        5  \n",
       "...       ...      ...  \n",
       "1594     10.5        5  \n",
       "1595     11.2        6  \n",
       "1596     11.0        6  \n",
       "1597     10.2        5  \n",
       "1598     11.0        6  \n",
       "\n",
       "[1599 rows x 12 columns]"
      ]
     },
     "metadata": {},
     "execution_count": 4
    }
   ],
   "metadata": {}
  },
  {
   "cell_type": "markdown",
   "source": [
    "Mostrar características estadísticas de los elementos"
   ],
   "metadata": {}
  },
  {
   "cell_type": "code",
   "execution_count": 5,
   "source": [
    "df.describe()"
   ],
   "outputs": [
    {
     "output_type": "execute_result",
     "data": {
      "text/html": [
       "<div>\n",
       "<style scoped>\n",
       "    .dataframe tbody tr th:only-of-type {\n",
       "        vertical-align: middle;\n",
       "    }\n",
       "\n",
       "    .dataframe tbody tr th {\n",
       "        vertical-align: top;\n",
       "    }\n",
       "\n",
       "    .dataframe thead th {\n",
       "        text-align: right;\n",
       "    }\n",
       "</style>\n",
       "<table border=\"1\" class=\"dataframe\">\n",
       "  <thead>\n",
       "    <tr style=\"text-align: right;\">\n",
       "      <th></th>\n",
       "      <th>fixed acidity</th>\n",
       "      <th>volatile acidity</th>\n",
       "      <th>citric acid</th>\n",
       "      <th>residual sugar</th>\n",
       "      <th>chlorides</th>\n",
       "      <th>free sulfur dioxide</th>\n",
       "      <th>total sulfur dioxide</th>\n",
       "      <th>density</th>\n",
       "      <th>pH</th>\n",
       "      <th>sulphates</th>\n",
       "      <th>alcohol</th>\n",
       "      <th>quality</th>\n",
       "    </tr>\n",
       "  </thead>\n",
       "  <tbody>\n",
       "    <tr>\n",
       "      <th>count</th>\n",
       "      <td>1599.000000</td>\n",
       "      <td>1599.000000</td>\n",
       "      <td>1599.000000</td>\n",
       "      <td>1599.000000</td>\n",
       "      <td>1599.000000</td>\n",
       "      <td>1599.000000</td>\n",
       "      <td>1599.000000</td>\n",
       "      <td>1599.000000</td>\n",
       "      <td>1599.000000</td>\n",
       "      <td>1599.000000</td>\n",
       "      <td>1599.000000</td>\n",
       "      <td>1599.000000</td>\n",
       "    </tr>\n",
       "    <tr>\n",
       "      <th>mean</th>\n",
       "      <td>8.319637</td>\n",
       "      <td>84.830550</td>\n",
       "      <td>0.270976</td>\n",
       "      <td>2.538806</td>\n",
       "      <td>77.470294</td>\n",
       "      <td>15.874922</td>\n",
       "      <td>46.467792</td>\n",
       "      <td>58.321478</td>\n",
       "      <td>3.311113</td>\n",
       "      <td>0.658149</td>\n",
       "      <td>10.422983</td>\n",
       "      <td>5.636023</td>\n",
       "    </tr>\n",
       "    <tr>\n",
       "      <th>std</th>\n",
       "      <td>1.741096</td>\n",
       "      <td>234.417251</td>\n",
       "      <td>0.194801</td>\n",
       "      <td>1.409928</td>\n",
       "      <td>51.628973</td>\n",
       "      <td>10.460157</td>\n",
       "      <td>32.895324</td>\n",
       "      <td>232.081972</td>\n",
       "      <td>0.154386</td>\n",
       "      <td>0.169507</td>\n",
       "      <td>1.065668</td>\n",
       "      <td>0.807569</td>\n",
       "    </tr>\n",
       "    <tr>\n",
       "      <th>min</th>\n",
       "      <td>4.600000</td>\n",
       "      <td>0.120000</td>\n",
       "      <td>0.000000</td>\n",
       "      <td>0.900000</td>\n",
       "      <td>0.050000</td>\n",
       "      <td>1.000000</td>\n",
       "      <td>6.000000</td>\n",
       "      <td>0.990070</td>\n",
       "      <td>2.740000</td>\n",
       "      <td>0.330000</td>\n",
       "      <td>8.400000</td>\n",
       "      <td>3.000000</td>\n",
       "    </tr>\n",
       "    <tr>\n",
       "      <th>25%</th>\n",
       "      <td>7.100000</td>\n",
       "      <td>0.400000</td>\n",
       "      <td>0.090000</td>\n",
       "      <td>1.900000</td>\n",
       "      <td>65.000000</td>\n",
       "      <td>7.000000</td>\n",
       "      <td>22.000000</td>\n",
       "      <td>0.995640</td>\n",
       "      <td>3.210000</td>\n",
       "      <td>0.550000</td>\n",
       "      <td>9.500000</td>\n",
       "      <td>5.000000</td>\n",
       "    </tr>\n",
       "    <tr>\n",
       "      <th>50%</th>\n",
       "      <td>7.900000</td>\n",
       "      <td>0.520000</td>\n",
       "      <td>0.260000</td>\n",
       "      <td>2.200000</td>\n",
       "      <td>77.000000</td>\n",
       "      <td>14.000000</td>\n",
       "      <td>38.000000</td>\n",
       "      <td>0.996800</td>\n",
       "      <td>3.310000</td>\n",
       "      <td>0.620000</td>\n",
       "      <td>10.200000</td>\n",
       "      <td>6.000000</td>\n",
       "    </tr>\n",
       "    <tr>\n",
       "      <th>75%</th>\n",
       "      <td>9.200000</td>\n",
       "      <td>0.660000</td>\n",
       "      <td>0.420000</td>\n",
       "      <td>2.600000</td>\n",
       "      <td>88.000000</td>\n",
       "      <td>21.000000</td>\n",
       "      <td>62.000000</td>\n",
       "      <td>0.998160</td>\n",
       "      <td>3.400000</td>\n",
       "      <td>0.730000</td>\n",
       "      <td>11.100000</td>\n",
       "      <td>6.000000</td>\n",
       "    </tr>\n",
       "    <tr>\n",
       "      <th>max</th>\n",
       "      <td>15.900000</td>\n",
       "      <td>1185.000000</td>\n",
       "      <td>1.000000</td>\n",
       "      <td>15.500000</td>\n",
       "      <td>611.000000</td>\n",
       "      <td>72.000000</td>\n",
       "      <td>289.000000</td>\n",
       "      <td>1001.000000</td>\n",
       "      <td>4.010000</td>\n",
       "      <td>2.000000</td>\n",
       "      <td>14.900000</td>\n",
       "      <td>8.000000</td>\n",
       "    </tr>\n",
       "  </tbody>\n",
       "</table>\n",
       "</div>"
      ],
      "text/plain": [
       "       fixed acidity  volatile acidity  citric acid  residual sugar  \\\n",
       "count    1599.000000       1599.000000  1599.000000     1599.000000   \n",
       "mean        8.319637         84.830550     0.270976        2.538806   \n",
       "std         1.741096        234.417251     0.194801        1.409928   \n",
       "min         4.600000          0.120000     0.000000        0.900000   \n",
       "25%         7.100000          0.400000     0.090000        1.900000   \n",
       "50%         7.900000          0.520000     0.260000        2.200000   \n",
       "75%         9.200000          0.660000     0.420000        2.600000   \n",
       "max        15.900000       1185.000000     1.000000       15.500000   \n",
       "\n",
       "         chlorides  free sulfur dioxide  total sulfur dioxide      density  \\\n",
       "count  1599.000000          1599.000000           1599.000000  1599.000000   \n",
       "mean     77.470294            15.874922             46.467792    58.321478   \n",
       "std      51.628973            10.460157             32.895324   232.081972   \n",
       "min       0.050000             1.000000              6.000000     0.990070   \n",
       "25%      65.000000             7.000000             22.000000     0.995640   \n",
       "50%      77.000000            14.000000             38.000000     0.996800   \n",
       "75%      88.000000            21.000000             62.000000     0.998160   \n",
       "max     611.000000            72.000000            289.000000  1001.000000   \n",
       "\n",
       "                pH    sulphates      alcohol      quality  \n",
       "count  1599.000000  1599.000000  1599.000000  1599.000000  \n",
       "mean      3.311113     0.658149    10.422983     5.636023  \n",
       "std       0.154386     0.169507     1.065668     0.807569  \n",
       "min       2.740000     0.330000     8.400000     3.000000  \n",
       "25%       3.210000     0.550000     9.500000     5.000000  \n",
       "50%       3.310000     0.620000    10.200000     6.000000  \n",
       "75%       3.400000     0.730000    11.100000     6.000000  \n",
       "max       4.010000     2.000000    14.900000     8.000000  "
      ]
     },
     "metadata": {},
     "execution_count": 5
    }
   ],
   "metadata": {}
  },
  {
   "cell_type": "markdown",
   "source": [
    "### IQR Score\n",
    "\n",
    "El rango intercuartílico o Interquartile Range es la diferencia entre el tercer y el primer cuartil de una distribución. \n",
    "\n",
    "Muestra la tendencia central de los datos.\n",
    "\n",
    "IQR = Q3 − Q1\n",
    "\n",
    "Se asume que cualquier valor fuera de este rango es un valor atípico"
   ],
   "metadata": {}
  },
  {
   "cell_type": "code",
   "execution_count": null,
   "source": [
    "Q1 = df.quantile(0.25)\r\n",
    "Q3 = df.quantile(0.75)\r\n",
    "IQR = Q3 - Q1\r\n",
    "print(IQR)"
   ],
   "outputs": [],
   "metadata": {}
  },
  {
   "cell_type": "code",
   "execution_count": null,
   "source": [
    "# Rangos normales de datos\r\n",
    "rango_inferior = Q1 - 1.5 * IQR\r\n",
    "rango_superior = Q3 + 1.5 * IQR\r\n",
    "\r\n",
    "print(\"Rango superior\")\r\n",
    "print(rango_inferior)\r\n",
    "print(\"Rango inferior\")\r\n",
    "print(rango_superior)"
   ],
   "outputs": [],
   "metadata": {}
  },
  {
   "cell_type": "code",
   "execution_count": null,
   "source": [
    "#Mostrar si un valor es atípico o no\r\n",
    "df_outliers = (df < rango_inferior) | (df > rango_superior)\r\n",
    "df_outliers"
   ],
   "outputs": [],
   "metadata": {}
  },
  {
   "cell_type": "code",
   "execution_count": null,
   "source": [
    "#Mostar mapa de calor para identificar los valores atípicos\r\n",
    "sns.heatmap(df_outliers, cbar=False)"
   ],
   "outputs": [],
   "metadata": {}
  },
  {
   "cell_type": "markdown",
   "source": [
    "### Box plot\n",
    "\n",
    "Un diagrama de caja o box plot es un gráfico que representa una serie de daots numéricos a partir de sus cuartiles.\n",
    "<img src=\"https://upload.wikimedia.org/wikipedia/commons/4/4a/Diagrama_de_caja.jpg\">"
   ],
   "metadata": {}
  },
  {
   "cell_type": "code",
   "execution_count": null,
   "source": [
    "# Mostrar boxplot de un atributo\r\n",
    "df.boxplot(column='pH')"
   ],
   "outputs": [],
   "metadata": {}
  },
  {
   "cell_type": "code",
   "execution_count": null,
   "source": [
    "# Mostrar boxplot de un atributo dividio por categoría\r\n",
    "df.boxplot(column='pH', by='quality')"
   ],
   "outputs": [],
   "metadata": {}
  },
  {
   "cell_type": "code",
   "execution_count": null,
   "source": [
    "# Mostrar boxplot de un atributo\r\n",
    "sns.boxplot(x=df['pH'])"
   ],
   "outputs": [],
   "metadata": {}
  },
  {
   "cell_type": "code",
   "execution_count": null,
   "source": [
    "# Mostrar boxplot de un atributo dividio por categoría\r\n",
    "sns.boxplot(y=df['pH'],x=df['quality'])"
   ],
   "outputs": [],
   "metadata": {}
  },
  {
   "cell_type": "markdown",
   "source": [
    "### Scatter Plot\n",
    "\n",
    "Los gráficos de disperción pueden mostrar visualmente cuando existen datos que se separan de los valores comunes del atributo"
   ],
   "metadata": {}
  },
  {
   "cell_type": "code",
   "execution_count": null,
   "source": [
    "plt.scatter(df.index,df[\"pH\"])\r\n",
    "plt.ylabel('pH')\r\n",
    "plt.show()"
   ],
   "outputs": [],
   "metadata": {}
  },
  {
   "cell_type": "code",
   "execution_count": null,
   "source": [
    "# Valor del atributo separado por categoría\r\n",
    "plt.scatter(df[\"quality\"], df[\"pH\"])\r\n",
    "plt.ylabel('pH')\r\n",
    "plt.show() "
   ],
   "outputs": [],
   "metadata": {}
  },
  {
   "cell_type": "markdown",
   "source": [
    "### Histogram\n",
    "\n",
    "El histograma muestra la frecuencia en la que aparecen los valores para un atributo específico. Nos permite ver ocurrencias de valores extremos."
   ],
   "metadata": {}
  },
  {
   "cell_type": "code",
   "execution_count": null,
   "source": [
    "df.pH.hist()"
   ],
   "outputs": [],
   "metadata": {}
  },
  {
   "cell_type": "markdown",
   "source": [
    "## Tratamiento"
   ],
   "metadata": {}
  },
  {
   "cell_type": "markdown",
   "source": [
    "### Flooring and Capping basado en cuartiles\n",
    "\n",
    "Se reemplazan los valores más bajos con el valor correspondiente a uno de los percentiles más bajos y los mal altos por el valor correspondiente a uno de los percentiles más altos."
   ],
   "metadata": {}
  },
  {
   "cell_type": "code",
   "execution_count": null,
   "source": [
    "pH_q_sup = df['pH'].quantile(0.90)\n",
    "pH_q_inf = df['pH'].quantile(0.10)\n",
    "print(pH_q_sup)\n",
    "print(pH_q_inf)"
   ],
   "outputs": [],
   "metadata": {}
  },
  {
   "cell_type": "code",
   "execution_count": null,
   "source": [
    "df_fc = df.copy(deep = True)\n",
    "df_fc.loc[df_fc[\"pH\"] <= pH_q_inf,\"pH\"] = pH_q_inf\n",
    "df_fc.loc[df_fc[\"pH\"] >= pH_q_sup, \"pH\"] = pH_q_sup"
   ],
   "outputs": [],
   "metadata": {}
  },
  {
   "cell_type": "code",
   "execution_count": null,
   "source": [
    "plt.scatter(df[\"quality\"], df[\"pH\"])\n",
    "plt.title('Original')\n",
    "plt.ylim(min(df['pH']),max(df['pH']))\n",
    "plt.ylabel('pH')\n",
    "plt.show() \n",
    "\n",
    "plt.scatter(df_fc[\"quality\"], df_fc[\"pH\"])\n",
    "plt.title('Valores modificados')\n",
    "plt.ylim(min(df['pH']),max(df['pH']))\n",
    "plt.ylabel('pH')\n",
    "plt.show() "
   ],
   "outputs": [],
   "metadata": {}
  },
  {
   "cell_type": "code",
   "execution_count": null,
   "source": [
    "a = sns.boxplot(y=df['pH'],x=df['quality'])\n",
    "a.set(ylim=(min(df['pH']),max(df['pH'])))\n"
   ],
   "outputs": [],
   "metadata": {}
  },
  {
   "cell_type": "code",
   "execution_count": null,
   "source": [
    "a = sns.boxplot(y=df_fc['pH'],x=df_fc['quality'])\n",
    "a.set(ylim=(min(df['pH']),max(df['pH'])))"
   ],
   "outputs": [],
   "metadata": {}
  },
  {
   "cell_type": "markdown",
   "source": [
    "### Trimming\n",
    "\n",
    "Eliminar los elementos que se encuentren fuera de ciertos cuartiles"
   ],
   "metadata": {}
  },
  {
   "cell_type": "code",
   "execution_count": null,
   "source": [
    "pH_q_sup = df['pH'].quantile(0.98)\n",
    "pH_q_inf = df['pH'].quantile(0.02)\n",
    "df_tr = df.copy(deep = True)\n",
    "index = df_tr[(df['pH'] >= pH_q_sup)|(df_tr['pH'] <= pH_q_inf)].index\n",
    "df_tr.drop(index, inplace=True)"
   ],
   "outputs": [],
   "metadata": {}
  },
  {
   "cell_type": "code",
   "execution_count": null,
   "source": [
    "plt.scatter(df[\"quality\"], df[\"pH\"])\n",
    "plt.ylim(min(df['pH']),max(df['pH']))\n",
    "plt.title('Original')\n",
    "plt.ylabel('pH')\n",
    "plt.show() \n",
    "\n",
    "plt.scatter(df_tr[\"quality\"], df_tr[\"pH\"])\n",
    "plt.ylim(min(df['pH']),max(df['pH']))\n",
    "plt.title('Valores modificados')\n",
    "plt.ylabel('pH')\n",
    "plt.show() \n"
   ],
   "outputs": [],
   "metadata": {}
  },
  {
   "cell_type": "code",
   "execution_count": null,
   "source": [
    "a = sns.boxplot(y=df['pH'],x=df['quality'])\n",
    "a.set(ylim=(min(df['pH']),max(df['pH'])))"
   ],
   "outputs": [],
   "metadata": {}
  },
  {
   "cell_type": "code",
   "execution_count": null,
   "source": [
    "a = sns.boxplot(y=df_tr['pH'],x=df_tr['quality'])\n",
    "a.set(ylim=(min(df['pH']),max(df['pH'])))"
   ],
   "outputs": [],
   "metadata": {}
  },
  {
   "cell_type": "markdown",
   "source": [
    "### IQR Score\n",
    "\n",
    "Eliminar aquellos elementos que se consideren outliers de acuerdo con el valor IQR"
   ],
   "metadata": {}
  },
  {
   "cell_type": "code",
   "execution_count": null,
   "source": [
    "pH_q_sup = df['pH'].quantile(0.98)\n",
    "pH_q_inf = df['pH'].quantile(0.02)\n",
    "df_IQR = df.copy(deep = True)\n",
    "index = df_IQR[(df['pH'] >= rango_superior['pH'])|(df_IQR['pH'] <= rango_inferior['pH'])].index\n",
    "df_IQR.drop(index, inplace=True)"
   ],
   "outputs": [],
   "metadata": {}
  },
  {
   "cell_type": "code",
   "execution_count": null,
   "source": [
    "plt.scatter(df[\"quality\"], df[\"pH\"])\n",
    "plt.ylim(min(df['pH']),max(df['pH']))\n",
    "plt.title('Original')\n",
    "plt.ylabel('pH')\n",
    "plt.show()    \n",
    "\n",
    "plt.scatter(df_IQR[\"quality\"], df_IQR[\"pH\"])\n",
    "plt.ylim(min(df['pH']),max(df['pH']))\n",
    "plt.title('Valores modificados')\n",
    "plt.ylabel('pH')\n",
    "plt.show() \n",
    "\n"
   ],
   "outputs": [],
   "metadata": {}
  },
  {
   "cell_type": "code",
   "execution_count": null,
   "source": [
    "a = sns.boxplot(y=df['pH'],x=df['quality'])\n",
    "a.set(ylim=(min(df['pH']),max(df['pH'])))"
   ],
   "outputs": [],
   "metadata": {}
  },
  {
   "cell_type": "code",
   "execution_count": null,
   "source": [
    "a = sns.boxplot(y=df_IQR['pH'],x=df_IQR['quality'])\n",
    "a.set(ylim=(min(df['pH']),max(df['pH'])))"
   ],
   "outputs": [],
   "metadata": {}
  },
  {
   "cell_type": "markdown",
   "source": [
    "### Transformación logarítmica\n",
    "\n",
    "Aplicar una transformación logarítmica sobre los elementos. Esto lo convierte en una distribucion normal pero cambia el valor y por lo tanto el significado de los datos. Es útil para los algoritmos de machine learning que requieren este tipo de distribución."
   ],
   "metadata": {}
  },
  {
   "cell_type": "code",
   "execution_count": null,
   "source": [
    "df_log = df.copy(deep = True)\n",
    "df_log[\"pH\"] = np.log(df_log[\"pH\"]) "
   ],
   "outputs": [],
   "metadata": {}
  },
  {
   "cell_type": "code",
   "execution_count": null,
   "source": [
    "plt.scatter(df[\"quality\"], df[\"pH\"])\n",
    "plt.title('Original')\n",
    "plt.ylim(min(df_log['pH']),max(df['pH']))\n",
    "plt.ylabel('pH')\n",
    "plt.show() \n",
    "\n",
    "plt.scatter(df_log[\"quality\"], df_log[\"pH\"])\n",
    "plt.title('Valores modificados')\n",
    "plt.ylim(min(df_log['pH']),max(df['pH']))\n",
    "plt.ylabel('pH')\n",
    "plt.show() "
   ],
   "outputs": [],
   "metadata": {}
  },
  {
   "cell_type": "code",
   "execution_count": null,
   "source": [
    "a = sns.boxplot(y=df['pH'],x=df['quality'])\n",
    "a.set(ylim=(min(df['pH']),max(df['pH'])))"
   ],
   "outputs": [],
   "metadata": {}
  },
  {
   "cell_type": "code",
   "execution_count": null,
   "source": [
    "a = sns.boxplot(y=df_log['pH'],x=df_log['quality'])\n",
    "a.set(ylim=(min(df_log['pH']),max(df['pH'])))"
   ],
   "outputs": [],
   "metadata": {}
  },
  {
   "cell_type": "code",
   "execution_count": null,
   "source": [],
   "outputs": [],
   "metadata": {}
  }
 ],
 "metadata": {
  "kernelspec": {
   "name": "python3",
   "display_name": "Python 3.9.7 64-bit"
  },
  "language_info": {
   "codemirror_mode": {
    "name": "ipython",
    "version": 3
   },
   "file_extension": ".py",
   "mimetype": "text/x-python",
   "name": "python",
   "nbconvert_exporter": "python",
   "pygments_lexer": "ipython3",
   "version": "3.9.7"
  },
  "interpreter": {
   "hash": "63fd5069d213b44bf678585dea6b12cceca9941eaf7f819626cde1f2670de90d"
  }
 },
 "nbformat": 4,
 "nbformat_minor": 5
}